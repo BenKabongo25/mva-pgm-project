{
 "cells": [
  {
   "cell_type": "code",
   "execution_count": 16,
   "metadata": {},
   "outputs": [],
   "source": [
    "import matplotlib.pyplot as plt\n",
    "import numpy as np\n",
    "import sys\n",
    "import warnings\n",
    "import os\n",
    "\n",
    "plt.style.use(\"bmh\")\n",
    "sys.path.append(\"../src/\")\n",
    "warnings.filterwarnings(\"ignore\")\n",
    "\n",
    "from kernels import ExponentiatedQuadraticKernel\n",
    "from MAGMA import MAGMA\n",
    "from aeon.datasets import load_from_arff_file"
   ]
  },
  {
   "cell_type": "markdown",
   "metadata": {},
   "source": [
    "## Data"
   ]
  },
  {
   "cell_type": "code",
   "execution_count": 17,
   "metadata": {},
   "outputs": [],
   "source": [
    "datasets_path = \"../datasets/\"\n",
    "dataset_folder = \"ethanol\"\n",
    "dataset_name = \"EthanolLevel\"\n"
   ]
  },
  {
   "cell_type": "code",
   "execution_count": 18,
   "metadata": {},
   "outputs": [],
   "source": [
    "X_test, y_test = load_from_arff_file(os.path.join(datasets_path, dataset_folder, dataset_name + \"_TEST.arff\"))\n",
    "X_train, y_train = load_from_arff_file(os.path.join(datasets_path, dataset_folder, dataset_name + \"_TRAIN.arff\"))"
   ]
  }
 ],
 "metadata": {
  "kernelspec": {
   "display_name": "PGMENV",
   "language": "python",
   "name": "python3"
  },
  "language_info": {
   "codemirror_mode": {
    "name": "ipython",
    "version": 3
   },
   "file_extension": ".py",
   "mimetype": "text/x-python",
   "name": "python",
   "nbconvert_exporter": "python",
   "pygments_lexer": "ipython3",
   "version": "3.11.5"
  }
 },
 "nbformat": 4,
 "nbformat_minor": 2
}
