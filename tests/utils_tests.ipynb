{
 "cells": [
  {
   "cell_type": "code",
   "execution_count": 1,
   "metadata": {},
   "outputs": [],
   "source": [
    "import numpy as np\n",
    "import sys\n",
    "\n",
    "sys.path.append(\"../src/\")\n",
    "from utils import *"
   ]
  },
  {
   "cell_type": "code",
   "execution_count": 2,
   "metadata": {},
   "outputs": [],
   "source": [
    "d = 3\n",
    "mu = np.random.random(d)\n",
    "Sigma = np.identity(d) + 0.5\n",
    "assert np.linalg.det(Sigma) != 0"
   ]
  },
  {
   "cell_type": "code",
   "execution_count": 3,
   "metadata": {},
   "outputs": [
    {
     "data": {
      "text/plain": [
       "0.0012884587189913657"
      ]
     },
     "execution_count": 3,
     "metadata": {},
     "output_type": "execute_result"
    }
   ],
   "source": [
    "x = np.array([1, 2, 3])\n",
    "multivariate_normal_density(x, mu, Sigma)"
   ]
  },
  {
   "cell_type": "code",
   "execution_count": 4,
   "metadata": {},
   "outputs": [
    {
     "data": {
      "text/plain": [
       "-6.6543085664205"
      ]
     },
     "execution_count": 4,
     "metadata": {},
     "output_type": "execute_result"
    }
   ],
   "source": [
    "multivariate_normal_density(x, mu, Sigma, log=True)"
   ]
  },
  {
   "cell_type": "code",
   "execution_count": 5,
   "metadata": {},
   "outputs": [],
   "source": [
    "x = np.zeros((4, d))\n",
    "x[0] = np.array([1, 2, 3])\n",
    "x[1:] = np.random.random((3, d))"
   ]
  },
  {
   "cell_type": "code",
   "execution_count": 6,
   "metadata": {},
   "outputs": [
    {
     "data": {
      "text/plain": [
       "array([0.00128846, 0.0251533 , 0.03672992, 0.02550721])"
      ]
     },
     "execution_count": 6,
     "metadata": {},
     "output_type": "execute_result"
    }
   ],
   "source": [
    "multivariate_normal_density(x, mu, Sigma)"
   ]
  },
  {
   "cell_type": "code",
   "execution_count": 7,
   "metadata": {},
   "outputs": [
    {
     "data": {
      "text/plain": [
       "array([-6.65430857, -3.68276626, -3.30416372, -3.66879425])"
      ]
     },
     "execution_count": 7,
     "metadata": {},
     "output_type": "execute_result"
    }
   ],
   "source": [
    "multivariate_normal_density(x, mu, Sigma, log=True)"
   ]
  },
  {
   "cell_type": "code",
   "execution_count": 42,
   "metadata": {},
   "outputs": [
    {
     "data": {
      "text/plain": [
       "(array([0.01189773, 0.59986137]),\n",
       " 0.8086928432514426,\n",
       " array([0.01189773, 0.59986137, 0.80869284]))"
      ]
     },
     "execution_count": 42,
     "metadata": {},
     "output_type": "execute_result"
    }
   ],
   "source": [
    "Theta = np.random.random(2)\n",
    "Sigma = np.random.random()\n",
    "Theta_Sigma = concatenate_Theta_Sigma_i(Theta, Sigma)\n",
    "Theta, Sigma, Theta_Sigma"
   ]
  },
  {
   "cell_type": "code",
   "execution_count": 9,
   "metadata": {},
   "outputs": [
    {
     "data": {
      "text/plain": [
       "(array([0.69555486, 0.98727274]), 0.1683987808698827)"
      ]
     },
     "execution_count": 9,
     "metadata": {},
     "output_type": "execute_result"
    }
   ],
   "source": [
    "retrieve_Theta_Sigma_i(Theta_Sigma)"
   ]
  },
  {
   "cell_type": "code",
   "execution_count": 40,
   "metadata": {},
   "outputs": [],
   "source": [
    "T = np.random.randint(0, 10, size=5)"
   ]
  },
  {
   "cell_type": "code",
   "execution_count": 43,
   "metadata": {},
   "outputs": [
    {
     "data": {
      "text/plain": [
       "(array([[8.08834399e-01, 3.12952597e-14, 5.24490785e-10, 5.45840726e-07,\n",
       "         1.41556036e-04],\n",
       "        [3.12952597e-14, 8.08834399e-01, 3.52746554e-05, 2.66787986e-26,\n",
       "         3.12952597e-14],\n",
       "        [5.24490785e-10, 3.52746554e-05, 8.08834399e-01, 1.15954612e-19,\n",
       "         5.24490785e-10],\n",
       "        [5.45840726e-07, 2.66787986e-26, 1.15954612e-19, 8.08834399e-01,\n",
       "         5.45840726e-07],\n",
       "        [1.41556036e-04, 3.12952597e-14, 5.24490785e-10, 5.45840726e-07,\n",
       "         8.08834399e-01]]),\n",
       " array([[ 1.23634706e+00, -1.26793351e-14, -8.01572179e-10,\n",
       "         -8.34201005e-07, -2.16376046e-04],\n",
       "        [-1.28226697e-14,  1.23634702e+00, -5.39192141e-05,\n",
       "         -3.14318622e-17, -1.23747211e-14],\n",
       "        [-8.01572179e-10, -5.39192141e-05,  1.23634702e+00,\n",
       "          1.32988268e-15, -8.01572164e-10],\n",
       "        [-8.34201005e-07, -6.40977346e-17,  1.26300284e-15,\n",
       "          1.23634702e+00, -8.34201005e-07],\n",
       "        [-2.16376046e-04, -1.27786251e-14, -8.01572137e-10,\n",
       "         -8.34201005e-07,  1.23634706e+00]]))"
      ]
     },
     "execution_count": 43,
     "metadata": {},
     "output_type": "execute_result"
    }
   ],
   "source": [
    "compute_inv_Psi_individual_i(\n",
    "    ExponentiatedQuadraticKernel,\n",
    "    Theta,\n",
    "    Sigma,\n",
    "    T\n",
    "    )"
   ]
  },
  {
   "cell_type": "code",
   "execution_count": 49,
   "metadata": {},
   "outputs": [
    {
     "data": {
      "text/plain": [
       "array([0, 0, 0, 1, 1])"
      ]
     },
     "execution_count": 49,
     "metadata": {},
     "output_type": "execute_result"
    }
   ],
   "source": [
    "mask = np.random.randint(0, 2, size=5)\n",
    "mask"
   ]
  },
  {
   "cell_type": "code",
   "execution_count": 50,
   "metadata": {},
   "outputs": [
    {
     "data": {
      "text/plain": [
       "(array([[0.00000000e+00, 0.00000000e+00, 0.00000000e+00, 0.00000000e+00,\n",
       "         0.00000000e+00],\n",
       "        [0.00000000e+00, 0.00000000e+00, 0.00000000e+00, 0.00000000e+00,\n",
       "         0.00000000e+00],\n",
       "        [0.00000000e+00, 0.00000000e+00, 0.00000000e+00, 0.00000000e+00,\n",
       "         0.00000000e+00],\n",
       "        [0.00000000e+00, 0.00000000e+00, 0.00000000e+00, 8.08834399e-01,\n",
       "         5.45840726e-07],\n",
       "        [0.00000000e+00, 0.00000000e+00, 0.00000000e+00, 5.45840726e-07,\n",
       "         8.08834399e-01]]),\n",
       " array([[ 0.00000000e+00,  0.00000000e+00,  0.00000000e+00,\n",
       "          0.00000000e+00,  0.00000000e+00],\n",
       "        [ 0.00000000e+00,  0.00000000e+00,  0.00000000e+00,\n",
       "          0.00000000e+00,  0.00000000e+00],\n",
       "        [ 0.00000000e+00,  0.00000000e+00,  0.00000000e+00,\n",
       "          0.00000000e+00,  0.00000000e+00],\n",
       "        [ 0.00000000e+00,  0.00000000e+00,  0.00000000e+00,\n",
       "          1.23634702e+00, -8.34347000e-07],\n",
       "        [ 0.00000000e+00,  0.00000000e+00,  0.00000000e+00,\n",
       "         -8.34347000e-07,  1.23634702e+00]]))"
      ]
     },
     "execution_count": 50,
     "metadata": {},
     "output_type": "execute_result"
    }
   ],
   "source": [
    "compute_inv_Psi_individual_i(\n",
    "    ExponentiatedQuadraticKernel,\n",
    "    Theta,\n",
    "    Sigma,\n",
    "    T,\n",
    "    mask\n",
    "    )"
   ]
  }
 ],
 "metadata": {
  "kernelspec": {
   "display_name": "Python 3.11.0 64-bit",
   "language": "python",
   "name": "python3"
  },
  "language_info": {
   "codemirror_mode": {
    "name": "ipython",
    "version": 3
   },
   "file_extension": ".py",
   "mimetype": "text/x-python",
   "name": "python",
   "nbconvert_exporter": "python",
   "pygments_lexer": "ipython3",
   "version": "3.11.0"
  },
  "orig_nbformat": 4,
  "vscode": {
   "interpreter": {
    "hash": "aee8b7b246df8f9039afb4144a1f6fd8d2ca17a180786b69acc140d282b71a49"
   }
  }
 },
 "nbformat": 4,
 "nbformat_minor": 2
}
