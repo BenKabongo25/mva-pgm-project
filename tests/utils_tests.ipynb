{
 "cells": [
  {
   "cell_type": "code",
   "execution_count": 1,
   "metadata": {},
   "outputs": [],
   "source": [
    "import numpy as np\n",
    "import sys\n",
    "\n",
    "sys.path.append(\"../src/\")\n",
    "from utils import *"
   ]
  },
  {
   "cell_type": "code",
   "execution_count": 2,
   "metadata": {},
   "outputs": [],
   "source": [
    "d = 3\n",
    "mu = np.random.random(d)\n",
    "Sigma = np.identity(d) + 0.5\n",
    "assert np.linalg.det(Sigma) != 0"
   ]
  },
  {
   "cell_type": "code",
   "execution_count": 3,
   "metadata": {},
   "outputs": [
    {
     "data": {
      "text/plain": [
       "0.0012884587189913657"
      ]
     },
     "execution_count": 3,
     "metadata": {},
     "output_type": "execute_result"
    }
   ],
   "source": [
    "x = np.array([1, 2, 3])\n",
    "multivariate_normal_density(x, mu, Sigma)"
   ]
  },
  {
   "cell_type": "code",
   "execution_count": 4,
   "metadata": {},
   "outputs": [
    {
     "data": {
      "text/plain": [
       "-6.6543085664205"
      ]
     },
     "execution_count": 4,
     "metadata": {},
     "output_type": "execute_result"
    }
   ],
   "source": [
    "multivariate_normal_density(x, mu, Sigma, log=True)"
   ]
  },
  {
   "cell_type": "code",
   "execution_count": 5,
   "metadata": {},
   "outputs": [],
   "source": [
    "x = np.zeros((4, d))\n",
    "x[0] = np.array([1, 2, 3])\n",
    "x[1:] = np.random.random((3, d))"
   ]
  },
  {
   "cell_type": "code",
   "execution_count": 6,
   "metadata": {},
   "outputs": [
    {
     "data": {
      "text/plain": [
       "array([0.00128846, 0.0251533 , 0.03672992, 0.02550721])"
      ]
     },
     "execution_count": 6,
     "metadata": {},
     "output_type": "execute_result"
    }
   ],
   "source": [
    "multivariate_normal_density(x, mu, Sigma)"
   ]
  },
  {
   "cell_type": "code",
   "execution_count": 7,
   "metadata": {},
   "outputs": [
    {
     "data": {
      "text/plain": [
       "array([-6.65430857, -3.68276626, -3.30416372, -3.66879425])"
      ]
     },
     "execution_count": 7,
     "metadata": {},
     "output_type": "execute_result"
    }
   ],
   "source": [
    "multivariate_normal_density(x, mu, Sigma, log=True)"
   ]
  },
  {
   "cell_type": "code",
   "execution_count": 8,
   "metadata": {},
   "outputs": [
    {
     "data": {
      "text/plain": [
       "(array([0.69555486, 0.98727274]),\n",
       " 0.1683987808698827,\n",
       " array([0.69555486, 0.98727274, 0.16839878]))"
      ]
     },
     "execution_count": 8,
     "metadata": {},
     "output_type": "execute_result"
    }
   ],
   "source": [
    "Theta = np.random.random(2)\n",
    "Sigma = np.random.random()\n",
    "Theta_Sigma = concatenate_Theta_Sigma_i(Theta, Sigma)\n",
    "Theta, Sigma, Theta_Sigma"
   ]
  },
  {
   "cell_type": "code",
   "execution_count": 9,
   "metadata": {},
   "outputs": [
    {
     "data": {
      "text/plain": [
       "(array([0.69555486, 0.98727274]), 0.1683987808698827)"
      ]
     },
     "execution_count": 9,
     "metadata": {},
     "output_type": "execute_result"
    }
   ],
   "source": [
    "retrieve_Theta_Sigma_i(Theta_Sigma)"
   ]
  },
  {
   "cell_type": "code",
   "execution_count": 6,
   "metadata": {},
   "outputs": [
    {
     "name": "stdout",
     "output_type": "stream",
     "text": [
      "T_ref : [2 1 3 5 4 6]\n",
      "Y_ref : [20 10 40 50  0  0]\n"
     ]
    }
   ],
   "source": [
    "import numpy as np\n",
    "\n",
    "T_ref = np.array([2, 1, 3, 5, 4, 6])\n",
    "Ti = np.array([1, 2, 4, 5])\n",
    "Yi = np.array([10, 20, 40, 50])\n",
    "\n",
    "Y_ref = np.zeros_like(T_ref)\n",
    "indices_in_Ti = np.where(np.isin(Ti, T_ref))[0]\n",
    "Y_ref[indices_in_Ti] = Yi[np.searchsorted(Ti, T_ref[indices_in_Ti], sorter=np.arange(len(Ti)))]\n",
    "\n",
    "print(\"T_ref :\", T_ref)\n",
    "print(\"Y_ref :\", Y_ref)"
   ]
  },
  {
   "cell_type": "code",
   "execution_count": 9,
   "metadata": {},
   "outputs": [
    {
     "data": {
      "text/plain": [
       "[array([2, 7, 1, 8, 5]),\n",
       " array([8, 1, 7, 0, 7, 1, 8, 9, 3, 2]),\n",
       " array([5, 1, 8, 5, 3, 3, 9])]"
      ]
     },
     "execution_count": 9,
     "metadata": {},
     "output_type": "execute_result"
    }
   ],
   "source": [
    "Y = [np.random.randint(0, 10, size=5), np.random.randint(0, 10, size=10), np.random.randint(0, 10, size=7)]\n",
    "Y"
   ]
  },
  {
   "cell_type": "code",
   "execution_count": 10,
   "metadata": {},
   "outputs": [
    {
     "data": {
      "text/plain": [
       "[array([0, 7, 7, 3, 8]),\n",
       " array([6, 5, 1, 8, 9, 8, 5, 5, 6, 7]),\n",
       " array([4, 0, 9, 1, 1, 0, 9])]"
      ]
     },
     "execution_count": 10,
     "metadata": {},
     "output_type": "execute_result"
    }
   ],
   "source": [
    "T = [np.random.randint(0, 10, size=5), np.random.randint(0, 10, size=10), np.random.randint(0, 10, size=7)]\n",
    "T"
   ]
  },
  {
   "cell_type": "code",
   "execution_count": 12,
   "metadata": {},
   "outputs": [
    {
     "data": {
      "text/plain": [
       "array([0, 1, 2, 3, 4, 5, 6, 7, 8, 9])"
      ]
     },
     "execution_count": 12,
     "metadata": {},
     "output_type": "execute_result"
    }
   ],
   "source": [
    "common_T = np.arange(0, 10)\n",
    "n_common_T = 10\n",
    "common_T"
   ]
  },
  {
   "cell_type": "code",
   "execution_count": 13,
   "metadata": {},
   "outputs": [
    {
     "ename": "ValueError",
     "evalue": "could not broadcast input array from shape (10,) into shape (3,)",
     "output_type": "error",
     "traceback": [
      "\u001b[0;31m---------------------------------------------------------------------------\u001b[0m",
      "\u001b[0;31mValueError\u001b[0m                                Traceback (most recent call last)",
      "Cell \u001b[0;32mIn [13], line 10\u001b[0m\n\u001b[1;32m      8\u001b[0m idx_Ti \u001b[39m=\u001b[39m np\u001b[39m.\u001b[39mwhere(np\u001b[39m.\u001b[39misin(T[i], common_T))[\u001b[39m0\u001b[39m]\n\u001b[1;32m      9\u001b[0m Yi_normalized[idx_Ti] \u001b[39m=\u001b[39m Y[i][np\u001b[39m.\u001b[39msearchsorted(T[i], common_T[idx_Ti], sorter\u001b[39m=\u001b[39mnp\u001b[39m.\u001b[39marange(\u001b[39mlen\u001b[39m(T[i])))]\n\u001b[0;32m---> 10\u001b[0m Y_normalized[i] \u001b[39m=\u001b[39m Yi_normalized\n",
      "\u001b[0;31mValueError\u001b[0m: could not broadcast input array from shape (10,) into shape (3,)"
     ]
    }
   ],
   "source": [
    "n_individuals = len(Y)\n",
    "T_masks = np.zeros((n_individuals, n_common_T))\n",
    "Y_normalized = np.zeros((n_individuals, n_common_T))\n",
    "for i in range(n_individuals):\n",
    "    mask = np.isin(common_T, T[i])\n",
    "    T_masks[i] = mask\n",
    "    Yi_normalized = np.zeros(n_common_T)\n",
    "    idx_Ti = np.where(np.isin(T[i], common_T))[0]\n",
    "    Yi_normalized[idx_Ti] = Y[i][np.searchsorted(T[i], common_T[idx_Ti], sorter=np.arange(len(T[i])))]\n",
    "    Y_normalized[i] = Yi_normalized"
   ]
  }
 ],
 "metadata": {
  "kernelspec": {
   "display_name": "Python 3.11.0 64-bit",
   "language": "python",
   "name": "python3"
  },
  "language_info": {
   "codemirror_mode": {
    "name": "ipython",
    "version": 3
   },
   "file_extension": ".py",
   "mimetype": "text/x-python",
   "name": "python",
   "nbconvert_exporter": "python",
   "pygments_lexer": "ipython3",
   "version": "3.11.0"
  },
  "orig_nbformat": 4,
  "vscode": {
   "interpreter": {
    "hash": "aee8b7b246df8f9039afb4144a1f6fd8d2ca17a180786b69acc140d282b71a49"
   }
  }
 },
 "nbformat": 4,
 "nbformat_minor": 2
}
