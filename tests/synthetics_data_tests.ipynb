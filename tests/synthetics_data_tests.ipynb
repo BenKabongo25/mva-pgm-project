{
 "cells": [
  {
   "cell_type": "markdown",
   "metadata": {},
   "source": [
    "## MAGMA experimnetations"
   ]
  },
  {
   "cell_type": "code",
   "execution_count": 2,
   "metadata": {},
   "outputs": [],
   "source": [
    "import numpy as np\n",
    "import sys\n",
    "\n",
    "sys.path.append(\"../src/\")\n",
    "from kernels import *\n",
    "#from MAGMA2 import MAGMA"
   ]
  },
  {
   "cell_type": "markdown",
   "metadata": {},
   "source": [
    "Draw a random working grid $𝐭 \\subset [0,10]$ of $N = 200$ timestamps, and a number $M$ of individuals."
   ]
  },
  {
   "cell_type": "code",
   "execution_count": 6,
   "metadata": {},
   "outputs": [
    {
     "name": "stdout",
     "output_type": "stream",
     "text": [
      "(200,)\n"
     ]
    }
   ],
   "source": [
    "t0 = 0\n",
    "tN = 10 + 1e-3\n",
    "N = 200\n",
    "M = 3\n",
    "\n",
    "t = np.linspace(t0, tN, N)\n",
    "print(t.shape)"
   ]
  },
  {
   "cell_type": "markdown",
   "metadata": {},
   "source": [
    "Define a prior mean function : $m0(t) = at+b$, $\\forall t ∈ 𝐭$ , where $a \\in [−2,2]$ and $b \\in [0,10]$ are drawn uniformly."
   ]
  },
  {
   "cell_type": "code",
   "execution_count": 5,
   "metadata": {},
   "outputs": [
    {
     "name": "stdout",
     "output_type": "stream",
     "text": [
      "(200,)\n"
     ]
    }
   ],
   "source": [
    "a = np.random.uniform(-2, 2)\n",
    "b = np.random.uniform(0, 10)\n",
    "\n",
    "m0 = a * t + b\n",
    "print(m0.shape)"
   ]
  },
  {
   "cell_type": "markdown",
   "metadata": {},
   "source": [
    "Draw hyper-parameters uniformly for $\\mu_0$’s kernel : $\\theta_0 = \\{v_0, l_0\\}$, where $v_0 \\in [1, exp(5)]$ and $l_0 \\in [1, exp(2)]$."
   ]
  },
  {
   "cell_type": "code",
   "execution_count": 8,
   "metadata": {},
   "outputs": [
    {
     "name": "stdout",
     "output_type": "stream",
     "text": [
      "[1.78988993 1.71177665]\n"
     ]
    }
   ],
   "source": [
    "v0 = np.random.uniform(1, np.exp(5))\n",
    "l0 = np.random.uniform(1, np.exp(2))\n",
    "\n",
    "theta0 = np.array([v0, l0])\n",
    "print(theta0)"
   ]
  },
  {
   "cell_type": "markdown",
   "metadata": {},
   "source": [
    "Draw $\\mu_0(𝐭)  \\sim N (m_0(𝐭),𝐊^𝐭_{\\theta_0})$."
   ]
  },
  {
   "cell_type": "code",
   "execution_count": 9,
   "metadata": {},
   "outputs": [
    {
     "name": "stdout",
     "output_type": "stream",
     "text": [
      "(200, 200)\n"
     ]
    }
   ],
   "source": [
    "K_theta_0 = ExponentiatedQuadraticKernel.compute_all(theta0, t)\n",
    "print(K_theta_0.shape)"
   ]
  },
  {
   "cell_type": "markdown",
   "metadata": {},
   "source": [
    "$\\forall i \\in I$, draw  $v_i \\in [1, exp(5)]$, $l_i \\in [1, exp(2)]$ and $\\sigma^2_i \\in [0, 1]$ uniformly."
   ]
  },
  {
   "cell_type": "code",
   "execution_count": 10,
   "metadata": {},
   "outputs": [
    {
     "name": "stdout",
     "output_type": "stream",
     "text": [
      "[[92.35525961  1.35315109]\n",
      " [93.98505267  2.54414518]\n",
      " [77.13555553  1.72586212]]\n",
      "[0.53423037 0.61189822 0.69097457]\n"
     ]
    }
   ],
   "source": [
    "v = np.random.uniform(1, np.exp(5), size=M)\n",
    "l = np.random.uniform(1, np.exp(2), size=M)\n",
    "\n",
    "Theta = np.c_[v, l]\n",
    "Sigma = np.random.uniform(0, 1, size=M)\n",
    "\n",
    "print(Theta)\n",
    "print(Sigma)"
   ]
  },
  {
   "cell_type": "markdown",
   "metadata": {},
   "source": [
    "$\\forall i \\in I$, draw a subset $t_i \\subset t$ of $N_i = 30$ timestamps uniformly and draw $y_i \\sim N(\\mu_0(t_i), \\Psi^{t_i}_{\\theta_i, \\sigma^2_i})$"
   ]
  },
  {
   "cell_type": "code",
   "execution_count": null,
   "metadata": {},
   "outputs": [],
   "source": []
  }
 ],
 "metadata": {
  "kernelspec": {
   "display_name": "Python 3.11.0 64-bit",
   "language": "python",
   "name": "python3"
  },
  "language_info": {
   "codemirror_mode": {
    "name": "ipython",
    "version": 3
   },
   "file_extension": ".py",
   "mimetype": "text/x-python",
   "name": "python",
   "nbconvert_exporter": "python",
   "pygments_lexer": "ipython3",
   "version": "3.11.0"
  },
  "orig_nbformat": 4,
  "vscode": {
   "interpreter": {
    "hash": "aee8b7b246df8f9039afb4144a1f6fd8d2ca17a180786b69acc140d282b71a49"
   }
  }
 },
 "nbformat": 4,
 "nbformat_minor": 2
}
