{
 "cells": [
  {
   "cell_type": "markdown",
   "metadata": {},
   "source": [
    "## MAGMA experimnetations"
   ]
  },
  {
   "cell_type": "code",
   "execution_count": 1,
   "metadata": {},
   "outputs": [],
   "source": [
    "import numpy as np\n",
    "import sys\n",
    "\n",
    "sys.path.append(\"../src/\")\n",
    "from kernels import *\n",
    "#from MAGMA2 import MAGMA"
   ]
  },
  {
   "cell_type": "markdown",
   "metadata": {},
   "source": [
    "Draw a random working grid $𝐭 \\subset [0,10]$ of $N = 200$ timestamps, and a number $M$ of individuals."
   ]
  },
  {
   "cell_type": "code",
   "execution_count": 2,
   "metadata": {},
   "outputs": [
    {
     "name": "stdout",
     "output_type": "stream",
     "text": [
      "(200,)\n"
     ]
    }
   ],
   "source": [
    "t0 = 0\n",
    "tN = 10 + 1e-3\n",
    "N = 200\n",
    "M = 3\n",
    "\n",
    "t = np.linspace(t0, tN, N)\n",
    "print(t.shape)"
   ]
  },
  {
   "cell_type": "markdown",
   "metadata": {},
   "source": [
    "Define a prior mean function : $m0(t) = at+b$, $\\forall t ∈ 𝐭$ , where $a \\in [−2,2]$ and $b \\in [0,10]$ are drawn uniformly."
   ]
  },
  {
   "cell_type": "code",
   "execution_count": 3,
   "metadata": {},
   "outputs": [
    {
     "name": "stdout",
     "output_type": "stream",
     "text": [
      "(200,)\n"
     ]
    }
   ],
   "source": [
    "a = np.random.uniform(-2, 2)\n",
    "b = np.random.uniform(0, 10)\n",
    "\n",
    "m0 = a * t + b\n",
    "print(m0.shape)"
   ]
  },
  {
   "cell_type": "markdown",
   "metadata": {},
   "source": [
    "Draw hyper-parameters uniformly for $\\mu_0$’s kernel : $\\theta_0 = \\{v_0, l_0\\}$, where $v_0 \\in [1, exp(5)]$ and $l_0 \\in [1, exp(2)]$."
   ]
  },
  {
   "cell_type": "code",
   "execution_count": 4,
   "metadata": {},
   "outputs": [
    {
     "name": "stdout",
     "output_type": "stream",
     "text": [
      "[8.25757947 5.96526702]\n"
     ]
    }
   ],
   "source": [
    "v0 = np.random.uniform(1, np.exp(5))\n",
    "l0 = np.random.uniform(1, np.exp(2))\n",
    "\n",
    "theta0 = np.array([v0, l0])\n",
    "print(theta0)"
   ]
  },
  {
   "cell_type": "markdown",
   "metadata": {},
   "source": [
    "Draw $\\mu_0(𝐭)  \\sim N (m_0(𝐭),𝐊^𝐭_{\\theta_0})$."
   ]
  },
  {
   "cell_type": "code",
   "execution_count": 5,
   "metadata": {},
   "outputs": [
    {
     "name": "stdout",
     "output_type": "stream",
     "text": [
      "(200, 200)\n"
     ]
    }
   ],
   "source": [
    "K_theta_0 = ExponentiatedQuadraticKernel.compute_all(theta0, t)\n",
    "print(K_theta_0.shape)"
   ]
  },
  {
   "cell_type": "markdown",
   "metadata": {},
   "source": [
    "$\\forall i \\in I$, draw  $v_i \\in [1, exp(5)]$, $l_i \\in [1, exp(2)]$ and $\\sigma^2_i \\in [0, 1]$ uniformly."
   ]
  },
  {
   "cell_type": "code",
   "execution_count": 6,
   "metadata": {},
   "outputs": [
    {
     "name": "stdout",
     "output_type": "stream",
     "text": [
      "[[79.30197058  1.19940676]\n",
      " [29.30172496  2.46409552]\n",
      " [ 7.18654032  5.44566582]]\n",
      "[0.53973738 0.84107679 0.08771977]\n"
     ]
    }
   ],
   "source": [
    "v = np.random.uniform(1, np.exp(5), size=M)\n",
    "l = np.random.uniform(1, np.exp(2), size=M)\n",
    "\n",
    "Theta = np.c_[v, l]\n",
    "Sigma = np.random.uniform(0, 1, size=M)\n",
    "\n",
    "print(Theta)\n",
    "print(Sigma)"
   ]
  },
  {
   "cell_type": "markdown",
   "metadata": {},
   "source": [
    "$\\forall i \\in I$, draw a subset $t_i \\subset t$ of $N_i = 30$ timestamps uniformly and draw $y_i \\sim N(\\mu_0(t_i), \\Psi^{t_i}_{\\theta_i, \\sigma^2_i})$"
   ]
  },
  {
   "cell_type": "code",
   "execution_count": 7,
   "metadata": {},
   "outputs": [],
   "source": [
    "t_sub = np.random.choice(t, size=30, replace=False)\n",
    "t_sub = np.sort(t_sub)\n",
    "\n"
   ]
  }
 ],
 "metadata": {
  "kernelspec": {
   "display_name": "Python 3.11.0 64-bit",
   "language": "python",
   "name": "python3"
  },
  "language_info": {
   "codemirror_mode": {
    "name": "ipython",
    "version": 3
   },
   "file_extension": ".py",
   "mimetype": "text/x-python",
   "name": "python",
   "nbconvert_exporter": "python",
   "pygments_lexer": "ipython3",
   "version": "3.11.5"
  },
  "orig_nbformat": 4,
  "vscode": {
   "interpreter": {
    "hash": "aee8b7b246df8f9039afb4144a1f6fd8d2ca17a180786b69acc140d282b71a49"
   }
  }
 },
 "nbformat": 4,
 "nbformat_minor": 2
}
